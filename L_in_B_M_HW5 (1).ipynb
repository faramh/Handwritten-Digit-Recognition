{
  "nbformat": 4,
  "nbformat_minor": 0,
  "metadata": {
    "colab": {
      "provenance": []
    },
    "kernelspec": {
      "name": "python3",
      "display_name": "Python 3"
    },
    "language_info": {
      "name": "python"
    }
  },
  "cells": [
    {
      "cell_type": "markdown",
      "source": [
        "# Other ways"
      ],
      "metadata": {
        "id": "KkBB58IarxXe"
      }
    },
    {
      "cell_type": "code",
      "source": [
        "import scipy.io\n"
      ],
      "metadata": {
        "id": "azG7nB9ZFxa9"
      },
      "execution_count": null,
      "outputs": []
    },
    {
      "cell_type": "code",
      "source": [
        "from google.colab import drive\n",
        "drive.mount('/content/drive')"
      ],
      "metadata": {
        "colab": {
          "base_uri": "https://localhost:8080/"
        },
        "id": "TX_2aVzNFS8E",
        "outputId": "fcd8e91e-a3b3-4d8b-f7aa-9d51d1c5d7bd"
      },
      "execution_count": null,
      "outputs": [
        {
          "output_type": "stream",
          "name": "stdout",
          "text": [
            "Mounted at /content/drive\n"
          ]
        }
      ]
    },
    {
      "cell_type": "code",
      "execution_count": null,
      "metadata": {
        "colab": {
          "base_uri": "https://localhost:8080/"
        },
        "outputId": "b32cfeb6-c225-4ef4-9228-5b316444acca",
        "id": "_K67Hco5Jlvx"
      },
      "outputs": [
        {
          "output_type": "stream",
          "name": "stdout",
          "text": [
            "/content/drive/My Drive\n"
          ]
        }
      ],
      "source": [
        "%cd '/content/drive/My Drive'\n",
        "\n",
        "Hoda = scipy.io.loadmat('Data_hoda_full.mat')"
      ]
    },
    {
      "cell_type": "code",
      "source": [
        "from ast import main\n",
        "import numpy as np\n",
        "\n",
        "# Assuming you have the data stored in a file named 'hoda_data_full.npz'\n",
        "# Make sure the file is in the same directory as your Python script or provide the correct path.\n",
        "\n",
        "# Step 1: Load the data\n",
        "Data = Hoda['Data']\n",
        "labels = Hoda['labels']\n",
        "\n",
        "# Step 2: Separate the data\n",
        "main_data_cells = Data[:4000]\n",
        "main_labels = labels[:4000]\n",
        "\n",
        "train_labels=main_labels[:3000]\n",
        "test_labels=main_labels[3000:4000]\n"
      ],
      "metadata": {
        "id": "h0xUlaEzJlvx"
      },
      "execution_count": null,
      "outputs": []
    },
    {
      "cell_type": "code",
      "source": [
        "# Step 1: Find maximum height and maximum width\n",
        "max_height = max(np.max(main_data_cells[i][0].shape[0]) for i in range(main_data_cells.shape[0]))\n",
        "max_width = max(np.max(main_data_cells[i][0].shape[1]) for i in range(main_data_cells.shape[0]))\n",
        "print(max_height)\n",
        "print(max_width)\n",
        "\n"
      ],
      "metadata": {
        "colab": {
          "base_uri": "https://localhost:8080/"
        },
        "outputId": "ae836027-38c6-4409-b033-7aced63b87b4",
        "id": "jKMCkYrtJlvx"
      },
      "execution_count": null,
      "outputs": [
        {
          "output_type": "stream",
          "name": "stdout",
          "text": [
            "54\n",
            "45\n"
          ]
        }
      ]
    },
    {
      "cell_type": "code",
      "source": [
        "import numpy as np\n",
        "\n",
        "# Assuming you have loaded your data into 'Data' and 'labels' arrays\n",
        "# Assuming each element of Data is a cell containing an array\n",
        "\n",
        "# Step 2: Initialize an array to store centralized images\n",
        "max_height = 0\n",
        "max_width = 0\n",
        "\n",
        "# Step 3: Centerize the images\n",
        "\n",
        "for i in range(4000):\n",
        "    max_height = max(max_height, main_data_cells[i][0].shape[0])\n",
        "    max_width = max(max_width, main_data_cells[i][0].shape[1])\n",
        "\n",
        "centered_main_data = np.zeros((4000, max_height, max_width), dtype=np.uint8)\n",
        "\n",
        "for i in range(4000):\n",
        "    h_offset = (max_height - main_data_cells[i][0].shape[0]) // 2\n",
        "    w_offset = (max_width - main_data_cells[i][0].shape[1]) // 2\n",
        "    centered_main_data[i, h_offset:h_offset+main_data_cells[i][0].shape[0], w_offset:w_offset+main_data_cells[i][0].shape[1]] = main_data_cells[i][0]\n",
        "\n",
        "centered_train_data=centered_main_data[:3000]\n",
        "centered_test_data=centered_main_data[3000:4000]\n",
        "\n",
        "\n",
        "# Now, 'centered_train_data' and 'centered_test_data' contain the centralized images.\n"
      ],
      "metadata": {
        "id": "YvbkGaG2Jlvx"
      },
      "execution_count": null,
      "outputs": []
    },
    {
      "cell_type": "code",
      "source": [
        "def zoning_feature_extraction(image):\n",
        "    # Assuming 'image' is a 2D array representing an image\n",
        "    h, w = image.shape\n",
        "    mid_h, mid_w = h // 2, w // 2\n",
        "\n",
        "    # Divide the image into four zones\n",
        "    top_left_zone = image[:mid_h, :mid_w]\n",
        "    top_right_zone = image[:mid_h, mid_w:]\n",
        "    bottom_left_zone = image[mid_h:, :mid_w]\n",
        "    bottom_right_zone = image[mid_h:, mid_w:]\n",
        "\n",
        "    # Calculate mean intensity for each zone\n",
        "    mean_top_left = np.mean(top_left_zone)\n",
        "    mean_top_right = np.mean(top_right_zone)\n",
        "    mean_bottom_left = np.mean(bottom_left_zone)\n",
        "    mean_bottom_right = np.mean(bottom_right_zone)\n",
        "\n",
        "    # Return the features as a list\n",
        "    features = [mean_top_left, mean_top_right, mean_bottom_left, mean_bottom_right]\n",
        "\n",
        "    return features\n",
        "\n",
        "def zoning_feature_extraction2(image):\n",
        "    h, w = image.shape\n",
        "    num_rows = 5\n",
        "    num_cols = 5\n",
        "    step_h = h // num_rows\n",
        "    step_w = w // num_cols\n",
        "\n",
        "    features = []\n",
        "\n",
        "    for i in range(num_rows):\n",
        "        for j in range(num_cols):\n",
        "            zone = image[i*step_h:(i+1)*step_h, j*step_w:(j+1)*step_w]\n",
        "            mean_intensity = np.mean(zone)\n",
        "            features.append(mean_intensity)\n",
        "\n",
        "    return features\n",
        "\n",
        "# Example usage for one image\n",
        "image_features = zoning_feature_extraction2(centered_train_data[0])\n",
        "print(image_features)\n"
      ],
      "metadata": {
        "colab": {
          "base_uri": "https://localhost:8080/"
        },
        "outputId": "1bd86ef2-69f3-44db-b0c5-42d41803d68a",
        "id": "rlgkTbeNJlvx"
      },
      "execution_count": null,
      "outputs": [
        {
          "output_type": "stream",
          "name": "stdout",
          "text": [
            "[0.0, 0.0, 0.0, 0.0, 0.0, 0.0, 70.83333333333333, 14.166666666666666, 48.166666666666664, 0.0, 0.0, 79.33333333333333, 167.16666666666666, 14.166666666666666, 0.0, 0.0, 34.0, 70.83333333333333, 0.0, 0.0, 0.0, 0.0, 0.0, 0.0, 0.0]\n"
          ]
        }
      ]
    },
    {
      "cell_type": "code",
      "source": [
        "def vertical_histogram_feature_extraction(image):\n",
        "    # Assuming 'image' is a 2D array representing an image\n",
        "    vertical_histogram = np.sum(image, axis=0)\n",
        "    return vertical_histogram.tolist()\n",
        "\n",
        "def horizontal_histogram_feature_extraction(image):\n",
        "    # Assuming 'image' is a 2D array representing an image\n",
        "    horizontal_histogram = np.sum(image, axis=1)\n",
        "    return horizontal_histogram.tolist()\n",
        "\n",
        "# Example usage for one image\n",
        "vertical_histogram = vertical_histogram_feature_extraction(centered_train_data[0])\n",
        "horizontal_histogram = horizontal_histogram_feature_extraction(centered_train_data[0])\n",
        "\n",
        "print(\"Vertical Histogram:\")\n",
        "print(vertical_histogram)\n",
        "\n",
        "print(\"\\nHorizontal Histogram:\")\n",
        "print(horizontal_histogram)\n"
      ],
      "metadata": {
        "colab": {
          "base_uri": "https://localhost:8080/"
        },
        "outputId": "e22334c1-6fdf-4a7d-d961-fd78b0b2a4c2",
        "id": "1VsSW62LJlvx"
      },
      "execution_count": null,
      "outputs": [
        {
          "output_type": "stream",
          "name": "stdout",
          "text": [
            "Vertical Histogram:\n",
            "[0, 0, 0, 0, 0, 0, 0, 0, 0, 0, 0, 0, 1530, 2550, 2805, 2295, 3060, 4335, 4335, 3825, 3060, 2550, 2295, 1785, 1785, 1530, 1530, 1530, 1530, 1275, 1020, 255, 0, 0, 0, 0, 0, 0, 0, 0, 0, 0, 0, 0, 0]\n",
            "\n",
            "Horizontal Histogram:\n",
            "[0, 0, 0, 0, 0, 0, 0, 0, 0, 0, 0, 0, 0, 510, 1020, 1785, 2295, 2040, 2040, 2295, 2040, 2550, 2550, 3825, 3570, 3060, 2295, 1275, 1020, 1275, 1020, 1275, 1020, 1020, 1020, 765, 1020, 1020, 765, 510, 0, 0, 0, 0, 0, 0, 0, 0, 0, 0, 0, 0, 0, 0]\n"
          ]
        }
      ]
    },
    {
      "cell_type": "code",
      "source": [
        "import numpy as np\n",
        "from sklearn.neighbors import KNeighborsClassifier\n",
        "from sklearn.metrics import accuracy_score\n",
        "\n",
        "# Assuming you have zoning features extracted for both training and test data\n",
        "\n",
        "# Define zoning feature extraction function\n",
        "\n",
        "\n",
        "# Assuming 'centered_train_data' and 'centered_test_data' are already defined\n",
        "\n",
        "# Extract zoning features for training and test data\n",
        "zoning_train_features = [zoning_feature_extraction2(image) for image in centered_train_data]\n",
        "zoning_test_features = [zoning_feature_extraction2(image) for image in centered_test_data]\n",
        "\n",
        "# Flatten the features\n",
        "flattened_train_features = np.array(zoning_train_features)\n",
        "flattened_test_features = np.array(zoning_test_features)\n",
        "\n",
        "train_labels = train_labels.ravel()\n",
        "test_labels = test_labels.ravel()\n",
        "\n",
        "# Initialize and train the KNN classifier\n",
        "knn = KNeighborsClassifier(n_neighbors=5)  # You can adjust 'n_neighbors' as needed\n",
        "knn.fit(flattened_train_features, train_labels)\n",
        "\n",
        "# Predict labels for test data\n",
        "predicted_labels = knn.predict(flattened_test_features)\n",
        "\n",
        "# Calculate accuracy\n",
        "accuracy = accuracy_score(test_labels, predicted_labels)\n",
        "\n",
        "print(f\"Accuracy: {accuracy}\")\n"
      ],
      "metadata": {
        "colab": {
          "base_uri": "https://localhost:8080/"
        },
        "outputId": "a29f2c98-dbd9-49b7-a69d-7970ea092d58",
        "id": "xKhvbq8SJlvx"
      },
      "execution_count": null,
      "outputs": [
        {
          "output_type": "stream",
          "name": "stdout",
          "text": [
            "Accuracy: 0.893\n"
          ]
        }
      ]
    },
    {
      "cell_type": "code",
      "source": [
        "import numpy as np\n",
        "from sklearn.neighbors import KNeighborsClassifier\n",
        "from sklearn.metrics import accuracy_score\n",
        "\n",
        "# Define vertical and horizontal histogram feature extraction functions\n",
        "def vertical_histogram_feature_extraction(image):\n",
        "    vertical_histogram = np.sum(image, axis=0)\n",
        "    return vertical_histogram.tolist()\n",
        "\n",
        "def horizontal_histogram_feature_extraction(image):\n",
        "    horizontal_histogram = np.sum(image, axis=1)\n",
        "    return horizontal_histogram.tolist()\n",
        "\n",
        "# Assuming 'centered_train_data' and 'centered_test_data' are already defined\n",
        "\n",
        "# Extract vertical and horizontal histogram features for training and test data\n",
        "vertical_train_features = [vertical_histogram_feature_extraction(image) for image in centered_train_data]\n",
        "vertical_test_features = [vertical_histogram_feature_extraction(image) for image in centered_test_data]\n",
        "\n",
        "horizontal_train_features = [horizontal_histogram_feature_extraction(image) for image in centered_train_data]\n",
        "horizontal_test_features = [horizontal_histogram_feature_extraction(image) for image in centered_test_data]\n",
        "\n",
        "flattened_vertical_train_features = np.array(vertical_train_features)\n",
        "flattened_vertical_test_features = np.array(vertical_test_features)\n",
        "\n",
        "flattened_horizontal_train_features = np.array(horizontal_train_features)\n",
        "flattened_horizontal_test_features = np.array(horizontal_test_features)\n",
        "\n",
        "print(flattened_horizontal_train_features.shape)\n",
        "\n",
        "\n",
        "# Flatten the labels\n",
        "train_labels = train_labels.ravel()\n",
        "test_labels = test_labels.ravel()\n",
        "\n",
        "# Initialize and train the KNN classifier for vertical histograms\n",
        "knn_vertical = KNeighborsClassifier(n_neighbors=3)\n",
        "knn_vertical.fit(flattened_vertical_train_features, train_labels)\n",
        "predicted_labels_vertical = knn_vertical.predict(flattened_vertical_test_features)\n",
        "\n",
        "# Calculate accuracy for vertical histograms\n",
        "accuracy_vertical = accuracy_score(test_labels, predicted_labels_vertical)\n",
        "\n",
        "# Initialize and train the KNN classifier for horizontal histograms\n",
        "knn_horizontal = KNeighborsClassifier(n_neighbors=3)\n",
        "knn_horizontal.fit(flattened_horizontal_train_features, train_labels)\n",
        "predicted_labels_horizontal = knn_horizontal.predict(flattened_horizontal_test_features)\n",
        "\n",
        "# Calculate accuracy for horizontal histograms\n",
        "accuracy_horizontal = accuracy_score(test_labels, predicted_labels_horizontal)\n",
        "\n",
        "print(f\"Accuracy (Vertical Histograms): {accuracy_vertical}\")\n",
        "print(f\"Accuracy (Horizontal Histograms): {accuracy_horizontal}\")\n",
        "\n",
        "\n",
        "\n",
        "# Assuming 'flattened_vertical_train_features', 'flattened_vertical_test_features',\n",
        "# 'flattened_horizontal_train_features', 'flattened_horizontal_test_features',\n",
        "# 'train_labels', and 'test_labels' are already defined\n",
        "\n",
        "# Concatenate vertical and horizontal features\n",
        "combined_train_features = np.hstack((flattened_vertical_train_features, flattened_horizontal_train_features))\n",
        "combined_test_features = np.hstack((flattened_vertical_test_features, flattened_horizontal_test_features))\n",
        "\n",
        "# Initialize and train the KNN classifier\n",
        "knn_combined = KNeighborsClassifier(n_neighbors=3)\n",
        "knn_combined.fit(combined_train_features, train_labels)\n",
        "\n",
        "# Predict labels for test data\n",
        "predicted_labels_combined = knn_combined.predict(combined_test_features)\n",
        "\n",
        "# Calculate accuracy\n",
        "accuracy_combined = accuracy_score(test_labels, predicted_labels_combined)\n",
        "\n",
        "print(f\"Accuracy (Combined Features): {accuracy_combined}\")\n",
        "\n",
        "\n",
        "\n"
      ],
      "metadata": {
        "colab": {
          "base_uri": "https://localhost:8080/"
        },
        "id": "H64I1v2RNxsk",
        "outputId": "75fdcdc2-f3fe-4155-b4cf-04b4e7553543"
      },
      "execution_count": null,
      "outputs": [
        {
          "output_type": "stream",
          "name": "stdout",
          "text": [
            "(3000, 54)\n",
            "Accuracy (Vertical Histograms): 0.581\n",
            "Accuracy (Horizontal Histograms): 0.742\n",
            "Accuracy (Combined Features): 0.767\n"
          ]
        }
      ]
    },
    {
      "cell_type": "code",
      "source": [],
      "metadata": {
        "id": "7KrrJC-vkClT"
      },
      "execution_count": null,
      "outputs": []
    },
    {
      "cell_type": "code",
      "source": [
        "import numpy as np\n",
        "from sklearn.naive_bayes import GaussianNB\n",
        "from sklearn.metrics import accuracy_score\n",
        "\n",
        "# Define zoning feature extraction function\n",
        "\n",
        "# Assuming 'centered_train_data' and 'centered_test_data' are already defined\n",
        "\n",
        "# Extract zoning features for training and test data\n",
        "zoning_train_features = [zoning_feature_extraction2(image) for image in centered_train_data]\n",
        "zoning_test_features = [zoning_feature_extraction2(image) for image in centered_test_data]\n",
        "\n",
        "# Flatten the features\n",
        "flattened_zoning_train_features = np.array(zoning_train_features)\n",
        "flattened_zoning_test_features = np.array(zoning_test_features)\n",
        "\n",
        "# Flatten the labels\n",
        "train_labels = train_labels.ravel()\n",
        "test_labels = test_labels.ravel()\n",
        "\n",
        "# Initialize and train the Gaussian Naive Bayes classifier\n",
        "bayes_classifier = GaussianNB()\n",
        "bayes_classifier.fit(flattened_zoning_train_features, train_labels)\n",
        "\n",
        "# Predict labels for test data\n",
        "predicted_labels_bayes = bayes_classifier.predict(flattened_zoning_test_features)\n",
        "\n",
        "# Calculate accuracy\n",
        "accuracy_bayes = accuracy_score(test_labels, predicted_labels_bayes)\n",
        "\n",
        "print(f\"Accuracy (Bayes): {accuracy_bayes}\")\n"
      ],
      "metadata": {
        "colab": {
          "base_uri": "https://localhost:8080/"
        },
        "id": "SDjc_6UVUF8u",
        "outputId": "9ad8ee94-86d6-476d-8155-ac93c1c595a2"
      },
      "execution_count": null,
      "outputs": [
        {
          "output_type": "stream",
          "name": "stdout",
          "text": [
            "Accuracy (Bayes): 0.439\n"
          ]
        }
      ]
    },
    {
      "cell_type": "code",
      "source": [
        "from sklearn.naive_bayes import MultinomialNB\n",
        "\n",
        "# Initialize and train the Multinomial Naive Bayes classifier\n",
        "bayes_classifier = MultinomialNB()\n",
        "bayes_classifier.fit(flattened_zoning_train_features, train_labels)\n",
        "\n",
        "# Predict labels for test data\n",
        "predicted_labels_bayes = bayes_classifier.predict(flattened_zoning_test_features)\n",
        "\n",
        "# Calculate accuracy\n",
        "accuracy_bayes = accuracy_score(test_labels, predicted_labels_bayes)\n",
        "\n",
        "print(f\"Accuracy (Bayes): {accuracy_bayes}\")"
      ],
      "metadata": {
        "colab": {
          "base_uri": "https://localhost:8080/"
        },
        "id": "nwtH7wBFn161",
        "outputId": "f9e77fbe-c085-41b7-cebb-4d5bfcf1a679"
      },
      "execution_count": null,
      "outputs": [
        {
          "output_type": "stream",
          "name": "stdout",
          "text": [
            "Accuracy (Bayes): 0.83\n"
          ]
        }
      ]
    },
    {
      "cell_type": "markdown",
      "source": [
        "# NEW"
      ],
      "metadata": {
        "id": "gBxXK3yymgNY"
      }
    },
    {
      "cell_type": "code",
      "source": [
        "import numpy as np\n",
        "from scipy import io\n",
        "import matplotlib.pyplot as plt\n",
        "from skimage.transform import resize"
      ],
      "metadata": {
        "id": "f4iaIHnHng1f"
      },
      "execution_count": null,
      "outputs": []
    },
    {
      "cell_type": "code",
      "source": [
        "X_train_orginal = np.squeeze(Hoda['Data'][:3000])\n",
        "y_train = np.squeeze(Hoda['labels'][:3000])\n",
        "X_test_original = np.squeeze(Hoda['Data'][3000:4000])\n",
        "y_test = np.squeeze(Hoda['labels'][3000:4000])"
      ],
      "metadata": {
        "id": "RDbkz92jmjOb"
      },
      "execution_count": null,
      "outputs": []
    },
    {
      "cell_type": "code",
      "source": [
        "plt.imshow(X_train_orginal[1], cmap='gray')\n",
        "plt.show()"
      ],
      "metadata": {
        "colab": {
          "base_uri": "https://localhost:8080/",
          "height": 430
        },
        "id": "oIh-zaMbncB2",
        "outputId": "bb24f044-ad92-47c7-8ceb-1fe57c9b60da"
      },
      "execution_count": null,
      "outputs": [
        {
          "output_type": "display_data",
          "data": {
            "text/plain": [
              "<Figure size 640x480 with 1 Axes>"
            ],
            "image/png": "[encoded data removed]"
          },
          "metadata": {}
        }
      ]
    },
    {
      "cell_type": "code",
      "source": [
        "#resize the image from ** to (5,5)\n",
        "X_train_5by5 = [resize(img, (5, 5)) for img in X_train_orginal]\n",
        "X_test_5by_5 = [resize(img, (5, 5)) for img in X_test_original]\n",
        "#reshape\n",
        "X_train = [x.reshape(25) for x in X_train_5by5]\n",
        "X_test = [x.reshape(25) for x in X_test_5by_5]\n"
      ],
      "metadata": {
        "id": "Y2a0RPlan4aZ"
      },
      "execution_count": null,
      "outputs": []
    },
    {
      "cell_type": "code",
      "source": [
        "from sklearn.neighbors import KNeighborsClassifier\n",
        "from sklearn.model_selection import train_test_split\n",
        "neigh = KNeighborsClassifier(n_neighbors=3)\n",
        "neigh.fit(X_train, y_train)\n",
        "\n",
        "sample = 999\n",
        "\n",
        "X = [X_test[sample]]\n",
        "\n",
        "predicted_class = neigh.predict(X)\n",
        "actual_class = y_test[sample]\n",
        "\n",
        "print (\"Sample {} is a {}, and you prediction is: {}.\".format(sample, actual_class, predicted_class[0]))\n",
        "\n",
        "acc = neigh.score(X_test, y_test)\n",
        "print (\"Accuracy is %.3f %%\" %(acc*100))\n"
      ],
      "metadata": {
        "colab": {
          "base_uri": "https://localhost:8080/"
        },
        "id": "JOlaMlUZn6yO",
        "outputId": "62f2afe5-1f2a-4fcb-f2dc-1bd86d3d6441"
      },
      "execution_count": null,
      "outputs": [
        {
          "output_type": "stream",
          "name": "stdout",
          "text": [
            "Sample 999 is a 6, and you prediction is: 6.\n",
            "Accuracy is 97.300 %\n"
          ]
        }
      ]
    },
    {
      "cell_type": "code",
      "source": [
        "error_rate = []\n",
        "\n",
        "# Will take some time\n",
        "for i in range(1,40):\n",
        "\n",
        "    knn = KNeighborsClassifier(n_neighbors=i)\n",
        "    knn.fit(X_train,y_train)\n",
        "    pred_i = knn.predict(X_test)\n",
        "    error_rate.append(np.mean(pred_i != y_test))\n",
        "\n",
        "\n",
        "plt.figure(figsize=(10,6))\n",
        "plt.plot(range(1,40),error_rate,color='blue', linestyle='dashed', marker='o',\n",
        "         markerfacecolor='red', markersize=10)\n",
        "plt.title('Error Rate vs. K Value')\n",
        "plt.xlabel('K')\n",
        "plt.ylabel('Error Rate')"
      ],
      "metadata": {
        "colab": {
          "base_uri": "https://localhost:8080/",
          "height": 582
        },
        "id": "IdI3VPkPoEFt",
        "outputId": "3c066c8c-6470-4821-c0dc-02c320b6b269"
      },
      "execution_count": null,
      "outputs": [
        {
          "output_type": "execute_result",
          "data": {
            "text/plain": [
              "Text(0, 0.5, 'Error Rate')"
            ]
          },
          "metadata": {},
          "execution_count": 14
        },
        {
          "output_type": "display_data",
          "data": {
            "text/plain": [
              "<Figure size 1000x600 with 1 Axes>"
            ],
            "image/png": "[encoded data removed]"
          },
          "metadata": {}
        }
      ]
    },
    {
      "cell_type": "code",
      "source": [
        "y_pred = neigh.predict(X_test)\n",
        "\n",
        "\n",
        "print(\"Predicted classes is:\")\n",
        "print(y_pred)\n",
        "print(\"==========================================================================\")\n",
        "print(\"True classes is:\")\n",
        "print(y_test)"
      ],
      "metadata": {
        "colab": {
          "base_uri": "https://localhost:8080/"
        },
        "id": "0cl5ul1XhwDb",
        "outputId": "dc7d5955-cc7a-4668-b4ac-8089c54842d4"
      },
      "execution_count": null,
      "outputs": [
        {
          "output_type": "stream",
          "name": "stdout",
          "text": [
            "Predicted classes is:\n",
            "[0 3 8 2 0 9 4 1 8 8 0 1 7 6 1 9 4 5 0 2 7 7 9 0 7 9 8 6 3 0 6 9 3 2 7 5 4\n",
            " 2 5 2 7 7 5 0 8 9 5 8 8 4 7 3 7 7 3 9 9 7 4 6 8 8 8 8 5 1 2 7 4 5 0 3 5 4\n",
            " 2 3 0 3 1 7 5 3 7 6 9 9 7 4 5 6 2 2 4 4 6 0 9 2 5 4 8 7 7 8 3 2 9 9 5 6 7\n",
            " 9 7 2 0 0 8 3 3 4 6 7 3 8 2 9 8 1 8 6 4 7 5 8 8 0 4 1 0 6 1 9 7 9 8 5 4 2\n",
            " 4 3 0 3 0 2 0 7 3 3 3 4 7 4 5 6 3 6 8 1 2 6 4 5 3 5 1 0 9 2 0 5 1 6 2 9 2\n",
            " 7 1 3 5 7 3 3 3 7 7 4 7 9 4 3 6 0 6 8 6 6 9 4 0 6 0 7 0 3 6 7 8 6 1 1 3 5\n",
            " 5 5 7 5 6 7 5 3 7 0 4 6 2 5 5 0 7 0 7 9 1 3 7 0 2 7 4 9 5 7 5 5 1 1 2 8 2\n",
            " 7 6 9 8 7 6 9 9 2 1 4 3 4 8 9 8 5 5 7 6 0 6 4 7 3 4 6 5 6 6 4 8 9 6 6 6 5\n",
            " 8 4 6 9 7 9 7 1 9 9 8 8 4 8 1 2 2 4 7 3 9 8 1 3 2 3 2 0 3 2 4 4 2 0 9 1 0\n",
            " 6 0 9 8 7 8 5 9 2 3 8 0 1 3 0 0 8 5 4 0 7 2 8 2 1 4 9 6 3 2 3 4 9 2 7 6 0\n",
            " 7 5 2 4 7 8 4 1 8 3 3 8 9 9 0 7 2 1 1 7 5 3 9 5 3 6 4 8 8 3 3 7 2 4 7 0 4\n",
            " 8 3 0 2 5 5 4 2 5 4 4 7 2 5 6 2 5 7 9 7 3 8 2 2 3 8 0 8 8 7 2 8 8 1 3 6 5\n",
            " 3 7 7 7 7 8 1 7 8 4 3 6 9 0 3 4 3 8 1 8 7 5 7 7 6 9 3 4 2 7 9 9 2 9 2 3 1\n",
            " 5 2 1 1 1 7 2 9 2 8 7 2 6 0 1 3 3 5 1 8 5 9 5 7 8 8 2 0 3 3 3 2 3 1 3 1 2\n",
            " 8 8 7 7 0 6 0 3 8 7 3 2 3 3 9 1 8 9 4 6 9 5 3 5 9 8 7 4 1 7 8 0 1 3 5 7 3\n",
            " 1 3 5 2 3 5 7 2 8 7 9 2 1 7 0 5 2 1 8 0 4 6 4 5 1 6 8 8 0 0 6 6 8 8 1 2 3\n",
            " 6 7 9 7 6 5 3 5 2 2 9 7 9 8 0 9 6 2 5 4 0 2 8 3 1 6 8 1 5 6 7 3 4 5 9 2 0\n",
            " 5 9 8 4 8 1 5 1 0 9 7 7 8 3 9 4 5 4 7 2 8 1 4 4 0 0 4 3 9 2 4 7 4 0 5 9 9\n",
            " 1 1 1 2 6 4 7 3 8 5 6 5 1 3 9 8 6 8 3 2 9 1 3 6 5 3 1 4 7 6 5 5 1 9 4 2 5\n",
            " 0 9 7 8 3 4 1 9 2 3 4 4 3 5 6 1 9 1 1 1 2 3 1 1 2 8 7 7 9 3 6 3 8 7 4 0 2\n",
            " 2 7 6 6 8 2 2 6 7 8 3 9 1 0 1 8 2 6 1 8 1 0 1 8 6 7 1 2 5 0 2 0 1 9 7 8 0\n",
            " 5 4 2 8 7 0 8 8 2 2 5 9 2 8 0 4 0 2 6 5 1 4 0 3 7 8 3 7 8 1 3 8 0 5 8 9 8\n",
            " 8 2 0 1 9 5 7 2 7 5 6 2 4 9 9 7 7 2 6 4 5 9 9 9 4 3 2 3 8 8 7 1 1 3 2 9 0\n",
            " 6 2 7 7 8 6 4 0 9 4 1 1 6 7 3 5 4 9 4 2 9 1 8 8 5 8 3 2 4 3 2 8 6 3 1 5 9\n",
            " 4 0 9 4 2 4 3 2 0 3 2 3 1 6 9 0 5 7 3 7 9 3 2 6 1 1 5 3 2 6 8 5 0 6 2 1 1\n",
            " 5 1 6 0 4 6 4 2 8 4 9 5 9 0 0 0 0 2 8 0 7 4 6 8 0 4 4 2 3 1 1 9 8 4 2 5 2\n",
            " 2 4 7 2 3 5 7 9 4 2 6 6 1 5 8 2 5 6 7 0 0 2 9 6 0 5 1 7 7 3 2 9 8 0 7 9 1\n",
            " 6]\n",
            "==========================================================================\n",
            "True classes is:\n",
            "[0 3 8 3 0 9 4 1 8 8 0 1 7 6 1 9 4 5 0 2 7 7 9 0 7 9 8 6 3 0 6 9 3 2 7 5 4\n",
            " 2 5 2 7 7 5 0 8 9 5 8 8 4 7 3 7 7 3 9 9 7 4 6 8 8 8 8 5 1 2 7 4 5 0 3 5 4\n",
            " 2 3 0 4 1 7 5 3 7 6 9 9 7 4 5 6 2 2 4 4 6 0 9 2 5 4 8 7 7 8 3 2 9 9 5 6 7\n",
            " 9 7 2 0 1 8 3 3 4 6 7 4 8 2 9 8 1 8 6 4 7 5 8 8 0 4 1 0 6 1 3 7 9 8 5 4 2\n",
            " 4 3 0 3 1 2 0 7 3 3 3 4 7 4 5 6 3 6 8 1 2 1 4 5 3 5 1 0 9 2 0 5 1 6 2 6 2\n",
            " 7 1 3 5 7 3 3 3 7 7 4 7 9 4 3 6 0 6 8 6 6 9 4 0 6 0 7 0 3 6 7 8 6 1 1 3 5\n",
            " 5 5 7 5 6 7 5 3 7 0 4 6 2 5 5 0 7 0 7 9 1 3 7 0 2 7 4 9 5 7 5 5 1 1 2 8 2\n",
            " 7 6 9 8 7 6 9 9 3 1 4 3 4 8 6 8 5 5 7 6 0 6 4 7 3 4 6 5 6 6 4 8 9 6 6 6 5\n",
            " 8 4 6 9 7 9 7 1 9 9 8 8 4 8 1 2 2 4 7 3 2 8 1 3 2 3 2 0 3 2 4 4 2 0 9 1 0\n",
            " 6 0 9 8 7 8 5 9 2 3 8 0 1 3 0 0 8 5 4 0 7 2 8 2 1 4 9 6 3 2 3 4 9 2 7 6 0\n",
            " 7 5 2 4 7 8 4 1 8 4 4 8 9 9 0 7 2 1 1 7 5 3 9 5 3 6 4 8 8 3 3 7 7 4 7 0 4\n",
            " 8 3 0 2 5 5 4 3 5 4 4 7 2 5 6 2 5 7 9 7 3 8 2 2 3 8 0 8 8 7 2 8 8 2 3 6 5\n",
            " 3 7 7 7 7 8 1 7 8 3 3 6 9 0 3 3 3 8 1 8 7 5 7 7 6 9 3 4 2 7 9 9 2 9 2 3 1\n",
            " 5 2 1 1 1 7 2 9 2 8 7 2 6 0 1 3 4 5 1 8 5 9 5 7 8 8 2 0 3 3 3 2 3 1 3 1 3\n",
            " 8 8 7 7 0 6 0 3 8 7 3 2 4 3 9 1 8 9 4 6 9 5 3 5 9 8 7 4 1 7 8 0 1 3 5 7 3\n",
            " 1 3 5 2 3 5 7 2 8 7 9 2 1 7 0 5 2 1 8 0 4 6 3 5 1 6 8 8 0 0 6 6 8 8 1 2 3\n",
            " 6 7 9 7 6 5 3 5 2 2 9 7 9 8 0 9 6 2 5 4 0 2 8 3 1 6 8 1 5 6 7 3 4 5 9 2 0\n",
            " 5 9 8 4 8 1 5 1 0 9 7 7 8 3 9 4 5 4 7 2 8 1 4 4 0 0 4 3 9 2 4 7 4 0 5 9 9\n",
            " 1 1 1 2 6 4 7 3 8 5 6 5 1 4 9 8 6 8 3 2 9 1 3 6 5 3 1 4 7 6 5 5 1 9 4 2 5\n",
            " 0 9 7 8 3 4 1 9 2 3 4 4 3 5 6 1 9 1 1 1 2 3 1 1 2 8 7 7 9 3 6 3 8 7 4 0 2\n",
            " 2 7 6 6 8 2 2 6 7 8 3 9 1 0 1 8 2 6 1 8 1 0 1 8 6 7 1 2 5 0 2 0 1 9 7 8 0\n",
            " 5 4 2 8 7 0 8 8 2 2 5 9 2 8 0 4 0 2 6 5 1 4 0 3 7 8 3 7 8 1 3 8 0 5 8 1 8\n",
            " 8 2 0 1 9 5 7 2 7 5 6 2 4 9 9 7 7 2 6 4 5 9 9 9 4 3 2 3 8 8 7 1 1 3 2 9 0\n",
            " 6 2 7 7 8 6 4 0 9 4 1 1 6 7 3 5 4 9 4 2 9 1 8 8 5 8 3 2 4 2 2 8 6 3 1 5 9\n",
            " 4 0 9 4 2 4 3 2 0 3 2 3 1 6 9 0 5 7 3 7 9 3 2 6 1 1 5 3 2 6 8 5 0 6 2 1 1\n",
            " 5 1 6 0 4 6 4 2 8 4 9 5 9 0 0 0 0 2 8 0 7 4 6 8 0 4 4 2 3 1 1 9 8 4 2 5 2\n",
            " 2 4 7 2 4 5 7 9 4 2 6 6 1 5 8 2 5 6 7 0 0 2 9 6 0 5 1 7 7 3 3 9 8 0 7 9 1\n",
            " 6]\n"
          ]
        }
      ]
    },
    {
      "cell_type": "code",
      "source": [
        "from sklearn.metrics import classification_report,confusion_matrix\n",
        "print(confusion_matrix(y_pred,y_test))"
      ],
      "metadata": {
        "id": "dEsKzxuIr5ZH",
        "colab": {
          "base_uri": "https://localhost:8080/"
        },
        "outputId": "fc752283-4be5-4bcc-bd1e-5bcf1e438b3b"
      },
      "execution_count": null,
      "outputs": [
        {
          "output_type": "stream",
          "name": "stdout",
          "text": [
            "[[ 86   2   0   0   0   0   0   0   0   0]\n",
            " [  0  91   1   0   0   0   0   0   0   0]\n",
            " [  0   0 107   5   0   0   0   1   0   0]\n",
            " [  0   0   1  99   8   0   0   0   0   0]\n",
            " [  0   0   0   3  89   0   0   0   0   0]\n",
            " [  0   0   0   0   0  93   0   0   0   0]\n",
            " [  0   1   0   0   0   0  85   0   0   0]\n",
            " [  0   0   0   0   0   0   0 118   0   0]\n",
            " [  0   0   0   0   0   0   0   0 113   0]\n",
            " [  0   1   1   1   0   0   2   0   0  92]]\n"
          ]
        }
      ]
    },
    {
      "cell_type": "markdown",
      "source": [
        "# Load data set"
      ],
      "metadata": {
        "id": "UolzYxqK623f"
      }
    },
    {
      "cell_type": "code",
      "execution_count": 1,
      "metadata": {
        "collapsed": true,
        "id": "H3c7bE7sBKxw"
      },
      "outputs": [],
      "source": [
        "import os, sys\n",
        "import numpy as np\n",
        "import pandas as pd\n",
        "import six.moves.cPickle as pickle\n",
        "import gzip\n",
        "import time\n",
        "import scipy.misc\n",
        "import matplotlib.pyplot as plt\n",
        "from matplotlib.pyplot import cm"
      ]
    },
    {
      "cell_type": "code",
      "source": [
        "import os\n",
        "import cv2\n",
        "import numpy as np\n",
        "from google.colab import drive\n",
        "\n",
        "# Mount Google Drive to access files\n",
        "drive.mount('/content/drive')\n"
      ],
      "metadata": {
        "colab": {
          "base_uri": "https://localhost:8080/"
        },
        "id": "ZLFnk7kRIe74",
        "outputId": "3d4cb2dc-c60f-4234-862a-bbcf57206cb3"
      },
      "execution_count": 2,
      "outputs": [
        {
          "output_type": "stream",
          "name": "stdout",
          "text": [
            "Mounted at /content/drive\n"
          ]
        }
      ]
    },
    {
      "cell_type": "code",
      "execution_count": 3,
      "metadata": {
        "colab": {
          "base_uri": "https://localhost:8080/"
        },
        "id": "c8LWIdrF4TVi",
        "outputId": "fe360d87-1b82-4740-ad2b-fa5479f313b8"
      },
      "outputs": [
        {
          "output_type": "stream",
          "name": "stdout",
          "text": [
            "/content/drive/My Drive\n"
          ]
        }
      ],
      "source": [
        "import scipy.io\n",
        "\n",
        "%cd '/content/drive/My Drive'\n",
        "\n",
        "Hoda = scipy.io.loadmat('Data_hoda_full.mat')"
      ]
    },
    {
      "cell_type": "code",
      "source": [
        "from ast import main\n",
        "import numpy as np\n",
        "\n",
        "# Assuming you have the data stored in a file named 'hoda_data_full.npz'\n",
        "# Make sure the file is in the same directory as your Python script or provide the correct path.\n",
        "\n",
        "# Step 1: Load the data\n",
        "Data = Hoda['Data']\n",
        "labels = Hoda['labels']\n",
        "\n",
        "# Step 2: Separate the data\n",
        "main_data_cells = Data[:4000]\n",
        "main_labels = labels[:4000]\n",
        "\n",
        "train_labels=main_labels[:3000]\n",
        "test_labels=main_labels[3000:4000]\n"
      ],
      "metadata": {
        "id": "e7xw2wPKVI7s"
      },
      "execution_count": 4,
      "outputs": []
    },
    {
      "cell_type": "code",
      "source": [
        "# Step 1: Find maximum height and maximum width\n",
        "max_height = max(np.max(main_data_cells[i][0].shape[0]) for i in range(main_data_cells.shape[0]))\n",
        "max_width = max(np.max(main_data_cells[i][0].shape[1]) for i in range(main_data_cells.shape[0]))\n",
        "print(max_height)\n",
        "print(max_width)\n",
        "\n"
      ],
      "metadata": {
        "colab": {
          "base_uri": "https://localhost:8080/"
        },
        "id": "Qm2hFUj-XiUH",
        "outputId": "8394a6cf-c5f0-4572-d3fa-b137ce54a61b"
      },
      "execution_count": 5,
      "outputs": [
        {
          "output_type": "stream",
          "name": "stdout",
          "text": [
            "54\n",
            "45\n"
          ]
        }
      ]
    },
    {
      "cell_type": "code",
      "source": [
        "import numpy as np\n",
        "\n",
        "# Assuming you have loaded your data into 'Data' and 'labels' arrays\n",
        "# Assuming each element of Data is a cell containing an array\n",
        "\n",
        "# Step 2: Initialize an array to store centralized images\n",
        "max_height = 0\n",
        "max_width = 0\n",
        "\n",
        "# Step 3: Centerize the images\n",
        "\n",
        "for i in range(4000):\n",
        "    max_height = max(max_height, main_data_cells[i][0].shape[0])\n",
        "    max_width = max(max_width, main_data_cells[i][0].shape[1])\n",
        "\n",
        "centered_main_data = np.zeros((4000, max_height, max_width), dtype=np.uint8)\n",
        "\n",
        "for i in range(4000):\n",
        "    h_offset = (max_height - main_data_cells[i][0].shape[0]) // 2\n",
        "    w_offset = (max_width - main_data_cells[i][0].shape[1]) // 2\n",
        "    centered_main_data[i, h_offset:h_offset+main_data_cells[i][0].shape[0], w_offset:w_offset+main_data_cells[i][0].shape[1]] = main_data_cells[i][0]\n",
        "\n",
        "centered_train_data=centered_main_data[:3000]\n",
        "centered_test_data=centered_main_data[3000:4000]\n",
        "\n",
        "\n",
        "# Now, 'centered_train_data' and 'centered_test_data' contain the centralized images.\n"
      ],
      "metadata": {
        "id": "DFK6dbtJaLsB"
      },
      "execution_count": 6,
      "outputs": []
    },
    {
      "cell_type": "markdown",
      "source": [
        "Feature extraction"
      ],
      "metadata": {
        "id": "xHDtsyD372To"
      }
    },
    {
      "cell_type": "code",
      "source": [
        "def zoning_feature_extraction(image):\n",
        "    # Assuming 'image' is a 2D array representing an image\n",
        "    h, w = image.shape\n",
        "    mid_h, mid_w = h // 2, w // 2\n",
        "\n",
        "    # Divide the image into four zones\n",
        "    top_left_zone = image[:mid_h, :mid_w]\n",
        "    top_right_zone = image[:mid_h, mid_w:]\n",
        "    bottom_left_zone = image[mid_h:, :mid_w]\n",
        "    bottom_right_zone = image[mid_h:, mid_w:]\n",
        "\n",
        "    # Calculate mean intensity for each zone\n",
        "    mean_top_left = np.mean(top_left_zone)\n",
        "    mean_top_right = np.mean(top_right_zone)\n",
        "    mean_bottom_left = np.mean(bottom_left_zone)\n",
        "    mean_bottom_right = np.mean(bottom_right_zone)\n",
        "\n",
        "    # Return the features as a list\n",
        "    features = [mean_top_left, mean_top_right, mean_bottom_left, mean_bottom_right]\n",
        "\n",
        "    return features\n",
        "\n",
        "def zoning_feature_extraction2(image):\n",
        "    h, w = image.shape\n",
        "    num_rows = 5\n",
        "    num_cols = 5\n",
        "    step_h = h // num_rows\n",
        "    step_w = w // num_cols\n",
        "\n",
        "    features = []\n",
        "\n",
        "    for i in range(num_rows):\n",
        "        for j in range(num_cols):\n",
        "            zone = image[i*step_h:(i+1)*step_h, j*step_w:(j+1)*step_w]\n",
        "            mean_intensity = np.mean(zone)\n",
        "            features.append(mean_intensity)\n",
        "\n",
        "    return features\n",
        "\n",
        "# Example usage for one image\n",
        "image_features = zoning_feature_extraction2(centered_train_data[0])\n",
        "print(image_features)\n"
      ],
      "metadata": {
        "colab": {
          "base_uri": "https://localhost:8080/"
        },
        "id": "mXnG9hI-dSNQ",
        "outputId": "571fb766-19f6-457d-ed80-9f69e9069fa6"
      },
      "execution_count": 7,
      "outputs": [
        {
          "output_type": "stream",
          "name": "stdout",
          "text": [
            "[0.0, 0.0, 0.0, 0.0, 0.0, 0.0, 70.83333333333333, 14.166666666666666, 48.166666666666664, 0.0, 0.0, 79.33333333333333, 167.16666666666666, 14.166666666666666, 0.0, 0.0, 34.0, 70.83333333333333, 0.0, 0.0, 0.0, 0.0, 0.0, 0.0, 0.0]\n"
          ]
        }
      ]
    },
    {
      "cell_type": "code",
      "source": [
        "def vertical_histogram_feature_extraction(image):\n",
        "    # Assuming 'image' is a 2D array representing an image\n",
        "    vertical_histogram = np.sum(image, axis=0)\n",
        "    return vertical_histogram.tolist()\n",
        "\n",
        "def horizontal_histogram_feature_extraction(image):\n",
        "    # Assuming 'image' is a 2D array representing an image\n",
        "    horizontal_histogram = np.sum(image, axis=1)\n",
        "    return horizontal_histogram.tolist()\n",
        "\n",
        "# Example usage for one image\n",
        "vertical_histogram = vertical_histogram_feature_extraction(centered_train_data[0])\n",
        "horizontal_histogram = horizontal_histogram_feature_extraction(centered_train_data[0])\n",
        "\n",
        "print(\"Vertical Histogram:\")\n",
        "print(vertical_histogram)\n",
        "\n",
        "print(\"\\nHorizontal Histogram:\")\n",
        "print(horizontal_histogram)\n"
      ],
      "metadata": {
        "colab": {
          "base_uri": "https://localhost:8080/"
        },
        "id": "OdPI6NQcr2xn",
        "outputId": "1261b07c-4a5f-46c3-c0fd-068f56c3e449"
      },
      "execution_count": 8,
      "outputs": [
        {
          "output_type": "stream",
          "name": "stdout",
          "text": [
            "Vertical Histogram:\n",
            "[0, 0, 0, 0, 0, 0, 0, 0, 0, 0, 0, 0, 1530, 2550, 2805, 2295, 3060, 4335, 4335, 3825, 3060, 2550, 2295, 1785, 1785, 1530, 1530, 1530, 1530, 1275, 1020, 255, 0, 0, 0, 0, 0, 0, 0, 0, 0, 0, 0, 0, 0]\n",
            "\n",
            "Horizontal Histogram:\n",
            "[0, 0, 0, 0, 0, 0, 0, 0, 0, 0, 0, 0, 0, 510, 1020, 1785, 2295, 2040, 2040, 2295, 2040, 2550, 2550, 3825, 3570, 3060, 2295, 1275, 1020, 1275, 1020, 1275, 1020, 1020, 1020, 765, 1020, 1020, 765, 510, 0, 0, 0, 0, 0, 0, 0, 0, 0, 0, 0, 0, 0, 0]\n"
          ]
        }
      ]
    },
    {
      "cell_type": "code",
      "source": [
        "import numpy as np\n",
        "from sklearn.neighbors import KNeighborsClassifier\n",
        "from sklearn.metrics import accuracy_score\n",
        "\n",
        "# Assuming you have zoning features extracted for both training and test data\n",
        "\n",
        "# Define zoning feature extraction function\n",
        "\n",
        "\n",
        "# Assuming 'centered_train_data' and 'centered_test_data' are already defined\n",
        "\n",
        "# Extract zoning features for training and test data\n",
        "zoning_train_features = [zoning_feature_extraction2(image) for image in centered_train_data]\n",
        "zoning_test_features = [zoning_feature_extraction2(image) for image in centered_test_data]\n",
        "\n",
        "# Flatten the features\n",
        "flattened_train_features = np.array(zoning_train_features)\n",
        "flattened_test_features = np.array(zoning_test_features)\n",
        "\n",
        "train_labels = train_labels.ravel()\n",
        "test_labels = test_labels.ravel()\n",
        "\n"
      ],
      "metadata": {
        "id": "2NR147cXvaaI"
      },
      "execution_count": 23,
      "outputs": []
    },
    {
      "cell_type": "code",
      "source": [
        "print(flattened_train_features.shape)"
      ],
      "metadata": {
        "colab": {
          "base_uri": "https://localhost:8080/"
        },
        "id": "sGus3BDpDaaq",
        "outputId": "ddb8c22c-a7a0-4077-83ea-9f42a7a5ec9a"
      },
      "execution_count": 10,
      "outputs": [
        {
          "output_type": "stream",
          "name": "stdout",
          "text": [
            "(3000, 25)\n"
          ]
        }
      ]
    },
    {
      "cell_type": "markdown",
      "source": [
        "\n",
        "# Handritten recignition with RBF"
      ],
      "metadata": {
        "id": "ylJBu9ZCDE7p"
      }
    },
    {
      "cell_type": "markdown",
      "metadata": {
        "id": "AuHehArqBKxx"
      },
      "source": [
        "# Step 1: K-Means Algorithm"
      ]
    },
    {
      "cell_type": "code",
      "execution_count": null,
      "metadata": {
        "collapsed": true,
        "id": "Bkwt-UwgBKxx"
      },
      "outputs": [],
      "source": [
        "class Kmeans:\n",
        "    def __init__(self, k, data, no_iter=100, optimized=True):\n",
        "        self.k = k\n",
        "        total_loss = []\n",
        "        # Random initialization\n",
        "        cluster_centers = np.random.random([k, data.shape[-1]])\n",
        "        # Calculate Distance of each point to every cluster centers.\n",
        "        dist_vec = np.zeros([k, data.shape[0]])\n",
        "        cur = 0\n",
        "        while(cur < no_iter):\n",
        "            for idx, _center in enumerate(cluster_centers):\n",
        "                dist_vec[idx] = np.sum(np.square(np.subtract(np.broadcast_to(_center, data.shape), data)), axis=1) # (50000, )\n",
        "            # Determine Argmin center\n",
        "            labels = np.argmin(dist_vec, axis=0)\n",
        "            loss = 0\n",
        "            for idx in range(k):\n",
        "                # Check Cluster Balance\n",
        "                if data[labels == idx].shape[0] < 2: # Degrees should be greater than 0\n",
        "                    cluster_centers = np.random.random([k, data.shape[-1]])\n",
        "                    cur = -1\n",
        "                    break\n",
        "                # Calculate Loss J\n",
        "                loss += np.sum(dist_vec[idx][labels == idx])\n",
        "                # Update cluster centers\n",
        "                cluster_centers[idx] = np.average(data[labels == idx], axis=0) # dim 784\n",
        "            if cur >= 0:\n",
        "                total_loss.append(loss)\n",
        "            if optimized and cur > 1 and (total_loss[-1] == total_loss[-2]):\n",
        "                break\n",
        "            cur += 1\n",
        "        print('Iterations: {}'.format(len(total_loss)))\n",
        "        self.centers, self.labels, self.total_loss = cluster_centers, labels, total_loss\n",
        "\n",
        "    def predict(self, data):\n",
        "        dist_vec = np.zeros([self.k, data.shape[0]])\n",
        "        for idx, _center in enumerate(self.centers):\n",
        "            dist_vec[idx] = np.sum(np.square(np.subtract(np.broadcast_to(_center, data.shape), data)), axis=1) # (50000, )\n",
        "        return np.argmin(dist_vec, axis=0)\n"
      ]
    },
    {
      "cell_type": "markdown",
      "source": [
        "Classifier"
      ],
      "metadata": {
        "id": "3OijhOrL76e_"
      }
    },
    {
      "cell_type": "code",
      "source": [
        "class RBFClassifier:\n",
        "    def init(self, X_train, y_train, X_test, y_test, num_of_classes, k_range, learning_rate=0.001, max_iter=3000, tol=1e-4, regularization=0.01):\n",
        "        self.X_train = X_train\n",
        "        self.y_train = y_train\n",
        "        self.X_test = X_test\n",
        "        self.y_test = y_test\n",
        "        self.num_of_classes = num_of_classes\n",
        "        self.k_range = k_range\n",
        "        self.learning_rate = learning_rate\n",
        "        self.max_iter = max_iter\n",
        "        self.tol = tol\n",
        "        self.regularization = regularization\n",
        "\n",
        "    def convert_to_one_hot(self, x, num_of_classes):\n",
        "        return np.eye(num_of_classes)[x]\n",
        "\n",
        "    def fit(self):\n",
        "        print(\"Start fitting your RBF...\")\n",
        "        best_k, best_score = self.select_best_k()\n",
        "        print(\"Best K and score:\", best_k, best_score)\n",
        "\n",
        "        kmeans = KMeans(n_clusters=best_k)\n",
        "        kmeans.fit(self.X_train)\n",
        "        centroids = kmeans.cluster_centers_\n",
        "        std_list = np.std(kmeans.transform(self.X_train), axis=0)\n",
        "\n",
        "        RBF_X_train = self.rbf_list(self.X_train, centroids, std_list)\n",
        "\n",
        "        scaler = StandardScaler()\n",
        "        RBF_X_train = scaler.fit_transform(RBF_X_train)\n",
        "\n",
        "        self.w = np.random.randn(RBF_X_train.shape[1], self.num_of_classes)  # Random initialization of weights\n",
        "\n",
        "        for _ in range(self.max_iter):\n",
        "            pred_y_train = RBF_X_train @ self.w\n",
        "            error = self.convert_to_one_hot(self.y_train, self.num_of_classes) - pred_y_train\n",
        "\n",
        "            error = error / np.linalg.norm(error)\n",
        "\n",
        "            self.w += self.learning_rate * RBF_X_train.T @ error\n",
        "\n",
        "            if np.linalg.norm(self.learning_rate * RBF_X_train.T @ error) < self.tol:\n",
        "                break\n",
        "\n",
        "        print(\"RBF was trained.\")\n",
        "        RBF_X_test = self.rbf_list(self.X_test, centroids, std_list)\n",
        "        RBF_X_test = scaler.transform(RBF_X_test)  # Apply the same transformation to the test set\n",
        "        self.pred_y_test = RBF_X_test @ self.w\n",
        "        self.pred_y_test = np.argmax(self.pred_y_test, axis=1)\n",
        "\n",
        "\n",
        "    def rbf(self, x, c, s):\n",
        "        distance = np.linalg.norm(x - c)\n",
        "        return np.exp(-distance / (2 * s ** 2))\n",
        "\n",
        "    def rbf_list(self, X, centroids, std_list):\n",
        "        RBF_list = []\n",
        "        for x in X:\n",
        "            RBF_list.append([self.rbf(x, c, s) for (c, s) in zip(centroids, std_list)])\n",
        "        return np.array(RBF_list)\n",
        "\n",
        "    def select_best_k(self):\n",
        "        best_k = None\n",
        "        best_score = -float('inf')\n",
        "        scores = []\n",
        "        for k in self.k_range:\n",
        "            kmeans = KMeans(n_clusters=k)\n",
        "            kmeans.fit(self.X_train)\n",
        "            score = self.calculate_cvi(kmeans)\n",
        "            scores.append((k, score))\n",
        "            if score > best_score:\n",
        "                best_score = score\n",
        "                best_k = k\n",
        "        print(\"Scores for different Ks:\", scores)\n",
        "        return best_k, best_score\n",
        "\n",
        "    def calculate_cvi(self, kmeans):\n",
        "        labels = kmeans.labels_\n",
        "        score = silhouette_score(self.X_train, labels)\n",
        "        return score"
      ],
      "metadata": {
        "id": "OOzH-Si679YN"
      },
      "execution_count": 5,
      "outputs": []
    },
    {
      "cell_type": "code",
      "source": [
        "# Import necessary libraries\n",
        "import numpy as np\n",
        "from sklearn.model_selection import train_test_split\n",
        "from sklearn.preprocessing import StandardScaler\n",
        "from sklearn.cluster import KMeans\n",
        "from sklearn.metrics import silhouette_score\n",
        "# Extract zoning features for training and test data\n",
        "zoning_train_features = [zoning_feature_extraction2(image) for image in centered_train_data]\n",
        "zoning_test_features = [zoning_feature_extraction2(image) for image in centered_test_data]\n",
        "\n",
        "# Flatten the features\n",
        "flattened_train_features = np.array(zoning_train_features)\n",
        "flattened_test_features = np.array(zoning_test_features)\n",
        "\n",
        "\n",
        "# Define other parameters\n",
        "num_of_classes = 10\n",
        "K_range = np.array([5, 10, 15, 20,25,30,35,40,45,50,55,60])\n",
        "\n",
        "\n",
        "# Create an instance of the RBFClassifier\n",
        "rbf_classifier = RBFClassifier(X_train=zoning_train_features, y_train=train_labels, X_test=flattened_test_features, y_test=test_labels, num_of_classes=10, k_range=K_range)\n",
        "\n",
        "# Call the fit method to train the model\n",
        "rbf_classifier.fit()\n",
        "\n",
        "# Access the predicted labels on the test set\n",
        "predicted_labels = rbf_classifier.pred_y_test\n"
      ],
      "metadata": {
        "id": "YvipTIZ-T6eA"
      },
      "execution_count": 4,
      "outputs": []
    },
    {
      "cell_type": "code",
      "source": [
        "print(\"#########################################################\")\n",
        "print(\"#########  Accuracy: \", accuracy_score(test_labels, y_pred),\"   ##########\")\n",
        "print(\"#########################################################\")\n",
        ""
      ],
      "metadata": {
        "colab": {
          "base_uri": "https://localhost:8080/"
        },
        "id": "XbzHFKuuJ9nz",
        "outputId": "6afe8440-a609-435d-8bc0-9301fc87b5ae"
      },
      "execution_count": 3,
      "outputs": [
        {
          "output_type": "stream",
          "name": "stdout",
          "text": [
            "#########################################################\n",
            "#########  Accuracy:  80.3    ##########\n",
            "#########################################################\n"
          ]
        }
      ]
    },
    {
      "cell_type": "markdown",
      "source": [],
      "metadata": {
        "id": "gEPq9scAT75Y"
      }
    },
    {
      "cell_type": "code",
      "source": [
        "from sklearn.cluster import KMeans\n",
        "best_k=10\n",
        "kmeans = KMeans(n_clusters=best_k)\n",
        "kmeans.fit(flattened_train_features)\n",
        "centroids = kmeans.cluster_centers_\n",
        "std_list = np.std(kmeans.transform(flattened_train_features), axis=0)\n",
        "\n"
      ],
      "metadata": {
        "colab": {
          "base_uri": "https://localhost:8080/"
        },
        "id": "ErN49zoYPJC5",
        "outputId": "8144d54a-986c-473b-9e7a-cc4b54887e60"
      },
      "execution_count": 17,
      "outputs": [
        {
          "output_type": "stream",
          "name": "stderr",
          "text": [
            "/usr/local/lib/python3.10/dist-packages/sklearn/cluster/_kmeans.py:870: FutureWarning: The default value of `n_init` will change from 10 to 'auto' in 1.4. Set the value of `n_init` explicitly to suppress the warning\n",
            "  warnings.warn(\n"
          ]
        }
      ]
    },
    {
      "cell_type": "code",
      "source": [
        "fig = plt.figure\n",
        "color=iter(cm.rainbow(np.linspace(0,1,best_k)))\n",
        "pred = kmeans.predict(flattened_train_features)\n",
        "for i in range(best_k):\n",
        "    c = next(color)\n",
        "    plt.plot(flattened_train_features[pred == i][:,0], flattened_train_features[pred == i][:,1], '.', c=c)\n",
        "    plt.plot(kmeans.cluster_centers_[i,0], kmeans.cluster_centers_[i,1], 'ko')"
      ],
      "metadata": {
        "colab": {
          "base_uri": "https://localhost:8080/",
          "height": 430
        },
        "id": "WcATKZNiQXqj",
        "outputId": "aed235ed-f192-491f-8ec9-b0efe8c89b21"
      },
      "execution_count": 18,
      "outputs": [
        {
          "output_type": "display_data",
          "data": {
            "text/plain": [
              "<Figure size 640x480 with 1 Axes>"
            ],
            "image/png": "[encoded data removed]"
          },
          "metadata": {}
        }
      ]
    },
    {
      "cell_type": "code",
      "source": [
        "from sklearn.neighbors import KNeighborsClassifier\n",
        "import numpy as np\n",
        "import matplotlib.pyplot as plt\n",
        "from sklearn.metrics import classification_report, confusion_matrix, accuracy_score\n",
        "from sklearn.naive_bayes import GaussianNB\n",
        "from sklearn.neural_network import MLPClassifier\n",
        "from sklearn.gaussian_process import GaussianProcessClassifier\n",
        "from sklearn.gaussian_process.kernels import RBF\n",
        "from sklearn.ensemble import AdaBoostClassifier\n",
        "from sklearn.discriminant_analysis import QuadraticDiscriminantAnalysis\n",
        "from sklearn.svm import SVC\n",
        "from sklearn import linear_model\n"
      ],
      "metadata": {
        "id": "b_OM7MY0T4g7"
      },
      "execution_count": 25,
      "outputs": []
    },
    {
      "cell_type": "code",
      "source": [
        "clf = GaussianProcessClassifier(kernel=1.0 * RBF(length_scale=1.0), warm_start=True, n_jobs=-1)\n",
        "clf = clf.fit(flattened_train_features, train_labels)\n",
        "y_pred = clf.predict(flattened_test_features)\n",
        "print(\"#########################################################\")\n",
        "print(\"#########  Accuracy: \", accuracy_score(test_labels, y_pred),\"   ##########\")\n",
        "print(\"#########################################################\")\n",
        ""
      ],
      "metadata": {
        "colab": {
          "base_uri": "https://localhost:8080/"
        },
        "id": "53PBLFlcSB_k",
        "outputId": "ac929b24-6fa9-4aa4-bed0-3ea21a156c66"
      },
      "execution_count": 2,
      "outputs": [
        {
          "output_type": "stream",
          "name": "stdout",
          "text": [
            "#########################################################\n",
            "#########  Accuracy:  83.6    ##########\n",
            "#########################################################\n"
          ]
        }
      ]
    }
  ]
}